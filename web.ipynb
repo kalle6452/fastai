#hide
! [ -e /content ] && pip install -Uqq fastbook
import fastbook
fastbook.setup_book()
#hide
from fastbook import *
from fastai.vision.widgets import *
!pip install voila
!jupyter serverextension enable --sys-prefix voila
